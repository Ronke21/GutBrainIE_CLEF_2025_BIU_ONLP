{
 "cells": [
  {
   "cell_type": "markdown",
   "metadata": {},
   "source": [
    "### Convert predicted entities in the evaluation format"
   ]
  },
  {
   "cell_type": "markdown",
   "metadata": {},
   "source": [
    "Define the imports"
   ]
  },
  {
   "cell_type": "code",
   "execution_count": 28,
   "metadata": {},
   "outputs": [],
   "source": [
    "import json"
   ]
  },
  {
   "cell_type": "markdown",
   "metadata": {},
   "source": [
    "Define paths to the prediction files"
   ]
  },
  {
   "cell_type": "code",
   "execution_count": null,
   "metadata": {},
   "outputs": [],
   "source": [
    "PATH_NER_PREDICTIONS_EVAL_FORMAT = \"../Predictions/NER/predicted_entities_eval_format.json\"\n",
    "PATH_RE_PREDICTIONS = \"../Predictions/RE/predicted_relations.json\""
   ]
  },
  {
   "cell_type": "markdown",
   "metadata": {},
   "source": [
    "Define output path"
   ]
  },
  {
   "cell_type": "code",
   "execution_count": 30,
   "metadata": {},
   "outputs": [],
   "source": [
    "PATH_OUTPUT_MERGED_PREDICTIONS = \"../Predictions/predictions_eval_format.json\"\n",
    "PATH_OUTPUT_61_NER = \"../Eval/BIU_ONLP_T61_runID_systemDesc.json\"\n",
    "PATH_OUTPUT_621_BINARY_TAG_RE = \"../Eval/BIU_ONLP_T621_4_RobertaLarge.json\"\n",
    "PATH_OUTPUT_622_TERNARY_TAG_RE = \"../Eval/BIU_ONLP_T622_4_RobertaLarge.json\"\n",
    "PATH_OUTPUT_623_TERNARY_MENTION_RE = \"../Eval/BIU_ONLP_T623_4_RobertaLarge.json\""
   ]
  },
  {
   "cell_type": "markdown",
   "metadata": {},
   "source": [
    "Load the input files into dictionary variables"
   ]
  },
  {
   "cell_type": "code",
   "execution_count": 31,
   "metadata": {},
   "outputs": [],
   "source": [
    "with open(PATH_NER_PREDICTIONS_EVAL_FORMAT, 'r', encoding='utf-8') as file:\n",
    "\tner_predictions = json.load(file)\n",
    "\t\n",
    "with open(PATH_RE_PREDICTIONS, 'r', encoding='utf-8') as file:\n",
    "\tre_predictions = json.load(file)"
   ]
  },
  {
   "cell_type": "markdown",
   "metadata": {},
   "source": [
    "#### Define the functions to process RE predictions"
   ]
  },
  {
   "cell_type": "markdown",
   "metadata": {},
   "source": [
    "Map subjects and objects of predicted relations to entities"
   ]
  },
  {
   "cell_type": "code",
   "execution_count": 32,
   "metadata": {},
   "outputs": [],
   "source": [
    "def map_predicted_relations_to_entities(re_data, ner_data):\n",
    "    for rel in re_data:\n",
    "        doc_pmid_title = rel['title']\n",
    "        h_idx = rel['h_idx']\n",
    "        t_idx = rel['t_idx']\n",
    "        predicate = rel['r'].lower()\n",
    "        doc_pmid = doc_pmid_title.split('||')[0].strip()\n",
    "        title = doc_pmid_title.split('||')[1].strip()\n",
    "\n",
    "        article_found = False\n",
    "        # print(\"rel:\", rel)\n",
    "        # print(\"doc_pmid:\", doc_pmid)\n",
    "        # print(\"title:\", title)\n",
    "        # print(\"h_idx:\", h_idx)\n",
    "        # print(\"t_idx:\", t_idx)\n",
    "        # print(\"predicate:\", predicate)\n",
    "        for pmid, article in ner_data.items():\n",
    "            if title == article['metadata']['title']:\n",
    "                article_found = True\n",
    "                subject_entity = article['entities'][h_idx]\n",
    "                object_entity = article['entities'][t_idx]\n",
    "                article['relations'].append({\n",
    "                    \"subject_start_idx\": subject_entity['start_idx'],\n",
    "                    \"subject_end_idx\": subject_entity['end_idx'],\n",
    "                    \"subject_location\": subject_entity['location'],\n",
    "                    \"subject_text_span\": subject_entity['text_span'],\n",
    "                    \"subject_label\": subject_entity['label'],\n",
    "                    \"predicate\": predicate,\n",
    "                    \"object_start_idx\": object_entity['start_idx'],\n",
    "                    \"object_end_idx\": object_entity['end_idx'],\n",
    "                    \"object_location\": object_entity['location'],\n",
    "                    \"object_text_span\": object_entity['text_span'],\n",
    "                    \"object_label\": object_entity['label']\n",
    "                })\n",
    "            else:\n",
    "                continue\n",
    "        \n",
    "        if not article_found:\n",
    "            print(f'NO MATCH FOR RELATION: {rel}')\n",
    "\n",
    "    return ner_data"
   ]
  },
  {
   "cell_type": "code",
   "execution_count": 33,
   "metadata": {},
   "outputs": [],
   "source": [
    "merged_predictions = map_predicted_relations_to_entities(re_predictions, ner_predictions)"
   ]
  },
  {
   "cell_type": "markdown",
   "metadata": {},
   "source": [
    "Remove relations not defined in the annotation guidelines and complete conversion to evaluation format"
   ]
  },
  {
   "cell_type": "code",
   "execution_count": 34,
   "metadata": {},
   "outputs": [],
   "source": [
    "LEGAL_RELATIONS = [\n",
    "    (\"ddf\", \"affect\", \"ddf\"),\n",
    "    (\"microbiome\", \"is linked to\", \"ddf\"),\n",
    "    (\"ddf\", \"target\", \"human\"),\n",
    "    (\"drug\", \"change effect\", \"ddf\"),\n",
    "    (\"ddf\", \"is a\", \"ddf\"),\n",
    "    (\"microbiome\", \"located in\", \"human\"),\n",
    "    (\"chemical\", \"influence\", \"ddf\"),\n",
    "    (\"dietary supplement\", \"influence\", \"ddf\"),\n",
    "    (\"ddf\", \"target\", \"animal\"),\n",
    "    (\"chemical\", \"impact\", \"microbiome\"),\n",
    "    (\"anatomical location\", \"located in\", \"animal\"),\n",
    "    (\"microbiome\", \"located in\", \"animal\"),\n",
    "    (\"chemical\", \"located in\", \"anatomical location\"),\n",
    "    (\"bacteria\", \"part of\", \"microbiome\"),\n",
    "    (\"ddf\", \"strike\", \"anatomical location\"),\n",
    "    (\"drug\", \"administered\", \"animal\"),\n",
    "    (\"bacteria\", \"influence\", \"ddf\"),\n",
    "    (\"drug\", \"impact\", \"microbiome\"),\n",
    "    (\"ddf\", \"change abundance\", \"microbiome\"),\n",
    "    (\"microbiome\", \"located in\", \"anatomical location\"),\n",
    "    (\"microbiome\", \"used by\", \"biomedical technique\"),\n",
    "    (\"chemical\", \"produced by\", \"microbiome\"),\n",
    "    (\"dietary supplement\", \"impact\", \"microbiome\"),\n",
    "    (\"bacteria\", \"located in\", \"animal\"),\n",
    "    (\"animal\", \"used by\", \"biomedical technique\"),\n",
    "    (\"chemical\", \"impact\", \"bacteria\"),\n",
    "    (\"chemical\", \"located in\", \"animal\"),\n",
    "    (\"food\", \"impact\", \"bacteria\"),\n",
    "    (\"microbiome\", \"compared to\", \"microbiome\"),\n",
    "    (\"human\", \"used by\", \"biomedical technique\"),\n",
    "    (\"bacteria\", \"change expression\", \"gene\"),\n",
    "    (\"chemical\", \"located in\", \"human\"),\n",
    "    (\"drug\", \"interact\", \"chemical\"),\n",
    "    (\"food\", \"administered\", \"human\"),\n",
    "    (\"ddf\", \"change abundance\", \"bacteria\"),\n",
    "    (\"chemical\", \"interact\", \"chemical\"),\n",
    "    (\"chemical\", \"part of\", \"chemical\"),\n",
    "    (\"dietary supplement\", \"impact\", \"bacteria\"),\n",
    "    (\"ddf\", \"interact\", \"chemical\"),\n",
    "    (\"food\", \"impact\", \"microbiome\"),\n",
    "    (\"food\", \"influence\", \"ddf\"),\n",
    "    (\"bacteria\", \"located in\", \"human\"),\n",
    "    (\"dietary supplement\", \"administered\", \"human\"),\n",
    "    (\"bacteria\", \"interact\", \"chemical\"),\n",
    "    (\"drug\", \"change expression\", \"gene\"),\n",
    "    (\"drug\", \"impact\", \"bacteria\"),\n",
    "    (\"drug\", \"administered\", \"human\"),\n",
    "    (\"anatomical location\", \"located in\", \"human\"),\n",
    "    (\"dietary supplement\", \"change expression\", \"gene\"),\n",
    "    (\"chemical\", \"change expression\", \"gene\"),\n",
    "    (\"bacteria\", \"interact\", \"bacteria\"),\n",
    "    (\"drug\", \"interact\", \"drug\"),\n",
    "    (\"microbiome\", \"change expression\", \"gene\"),\n",
    "    (\"bacteria\", \"interact\", \"drug\"),\n",
    "    (\"food\", \"change expression\", \"gene\")\n",
    "]\n",
    "\n",
    "def remove_illegal_relations(data):\n",
    "    dump_dict = {}\n",
    "    total_rels = 0\n",
    "    kept_rels = 0\n",
    "    discared_rels = 0\n",
    "    discared_rels_set = set()\n",
    "\n",
    "    for pmid, article in data.items():\n",
    "        dump_dict[pmid] = {}\n",
    "        dump_dict[pmid]['metadata'] = article['metadata']\n",
    "        dump_dict[pmid]['entities'] = []\n",
    "        dump_dict[pmid]['relations'] = []\n",
    "\n",
    "        for entity in article['entities']:\n",
    "            dump_dict[pmid]['entities'].append({\n",
    "                \"start_idx\": entity[\"start_idx\"],\n",
    "                \"end_idx\": entity[\"end_idx\"],\n",
    "                \"location\": entity[\"location\"],\n",
    "                \"text_span\": entity[\"text_span\"],\n",
    "                \"label\": entity[\"label\"] if entity['label'] != 'ddf' else 'DDF'\n",
    "            })\n",
    "        \n",
    "        for relation in article['relations']:\n",
    "            total_rels += 1\n",
    "            rel_key = (relation[\"subject_label\"], relation[\"predicate\"], relation[\"object_label\"])\n",
    "            if rel_key in LEGAL_RELATIONS:\n",
    "                kept_rels += 1\n",
    "                dump_dict[pmid]['relations'].append({\n",
    "                    \"subject_start_idx\": relation[\"subject_start_idx\"],\n",
    "                    \"subject_end_idx\": relation[\"subject_end_idx\"],\n",
    "                    \"subject_location\": relation[\"subject_location\"],\n",
    "                    \"subject_text_span\": relation[\"subject_text_span\"],\n",
    "                    \"subject_label\": relation[\"subject_label\"] if relation[\"subject_label\"] != 'ddf' else 'DDF',\n",
    "                    \"predicate\": relation[\"predicate\"],\n",
    "                    \"object_start_idx\": relation[\"object_start_idx\"],\n",
    "                    \"object_end_idx\": relation[\"object_end_idx\"],\n",
    "                    \"object_location\": relation[\"object_location\"],\n",
    "                    \"object_text_span\": relation[\"object_text_span\"],\n",
    "                    \"object_label\": relation[\"object_label\"] if relation[\"object_label\"] != 'ddf' else 'DDF'\n",
    "                })\n",
    "            else:\n",
    "                discared_rels += 1\n",
    "                discared_rels_set.add(rel_key)\n",
    "\n",
    "    print(f'total_rels: {total_rels}')\n",
    "    print(f'kept_rels: {kept_rels}')\n",
    "    print(f'discared_rels: {discared_rels}')\n",
    "    print()\n",
    "    print(f'discared_rels_set: {discared_rels_set}')\n",
    "    for entry in discared_rels_set:\n",
    "        print(entry)\n",
    "\n",
    "    return dump_dict\n"
   ]
  },
  {
   "cell_type": "code",
   "execution_count": 35,
   "metadata": {},
   "outputs": [
    {
     "name": "stdout",
     "output_type": "stream",
     "text": [
      "total_rels: 519\n",
      "kept_rels: 514\n",
      "discared_rels: 5\n",
      "\n",
      "discared_rels_set: {('gene', 'influence', 'ddf'), ('chemical', 'change effect', 'ddf'), ('chemical', 'affect', 'ddf'), ('human', 'target', 'human'), ('microbiome', 'is linked to', 'human')}\n",
      "('gene', 'influence', 'ddf')\n",
      "('chemical', 'change effect', 'ddf')\n",
      "('chemical', 'affect', 'ddf')\n",
      "('human', 'target', 'human')\n",
      "('microbiome', 'is linked to', 'human')\n"
     ]
    }
   ],
   "source": [
    "dump_dict = remove_illegal_relations(merged_predictions)"
   ]
  },
  {
   "cell_type": "markdown",
   "metadata": {},
   "source": [
    "Sort entities and relations"
   ]
  },
  {
   "cell_type": "code",
   "execution_count": 36,
   "metadata": {},
   "outputs": [],
   "source": [
    "def sort_entities(release_dict):\n",
    "\tdef get_sorting_key(entity):\n",
    "\t\tlocation_priority = 0 if entity[\"location\"] == \"title\" else 1\n",
    "\t\treturn (location_priority, entity[\"start_idx\"])\n",
    "\n",
    "\tfor pmid, article in release_dict.items():\n",
    "\t\tarticle[\"entities\"].sort(key=get_sorting_key)"
   ]
  },
  {
   "cell_type": "code",
   "execution_count": 37,
   "metadata": {},
   "outputs": [],
   "source": [
    "sort_entities(dump_dict)"
   ]
  },
  {
   "cell_type": "code",
   "execution_count": 38,
   "metadata": {},
   "outputs": [],
   "source": [
    "def sort_relations(release_dict):\n",
    "\tdef get_sorting_key(relation):\n",
    "\t\tlocation_priority = 0 if relation[\"subject_location\"] == \"title\" else 1\n",
    "\t\treturn (location_priority, relation[\"subject_start_idx\"])\n",
    "\n",
    "\tfor pmid, article in release_dict.items():\n",
    "\t\tarticle[\"relations\"].sort(key=get_sorting_key)"
   ]
  },
  {
   "cell_type": "code",
   "execution_count": 39,
   "metadata": {},
   "outputs": [],
   "source": [
    "sort_relations(dump_dict)"
   ]
  },
  {
   "cell_type": "markdown",
   "metadata": {},
   "source": [
    "Generate Binary Tag Based Relations"
   ]
  },
  {
   "cell_type": "code",
   "execution_count": 40,
   "metadata": {},
   "outputs": [],
   "source": [
    "def add_binary_tag_based_relations_to_release_dict(release_dict):\n",
    "    for pmid, article in release_dict.items():\n",
    "        pairs = set()\n",
    "        for relation in article[\"relations\"]:\n",
    "            pairs.add((relation[\"subject_label\"], relation[\"object_label\"]))\n",
    "        if \"binary_tag_based_relations\" not in release_dict[pmid]:    \n",
    "            release_dict[pmid][\"binary_tag_based_relations\"] = []\n",
    "        for entry in pairs:\n",
    "            release_dict[pmid][\"binary_tag_based_relations\"].append({\"subject_label\": entry[0], \"object_label\": entry[1]})"
   ]
  },
  {
   "cell_type": "code",
   "execution_count": 41,
   "metadata": {},
   "outputs": [],
   "source": [
    "add_binary_tag_based_relations_to_release_dict(dump_dict)"
   ]
  },
  {
   "cell_type": "markdown",
   "metadata": {},
   "source": [
    "Generate Ternary Tag Based Relations"
   ]
  },
  {
   "cell_type": "code",
   "execution_count": 42,
   "metadata": {},
   "outputs": [],
   "source": [
    "def add_ternary_tag_based_relations_to_release_dict(release_dict):\n",
    "    for pmid, article in release_dict.items():\n",
    "        triplets = set()\n",
    "        for relation in article[\"relations\"]:\n",
    "            triplets.add((relation[\"subject_label\"], relation[\"predicate\"], relation[\"object_label\"]))\n",
    "        if \"ternary_tag_based_relations\" not in release_dict[pmid]:\n",
    "            release_dict[pmid][\"ternary_tag_based_relations\"] = []\n",
    "        for entry in triplets:\n",
    "            release_dict[pmid][\"ternary_tag_based_relations\"].append({\"subject_label\": entry[0], \"predicate\": entry[1], \"object_label\": entry[2]})"
   ]
  },
  {
   "cell_type": "code",
   "execution_count": 43,
   "metadata": {},
   "outputs": [],
   "source": [
    "\n",
    "add_ternary_tag_based_relations_to_release_dict(dump_dict)"
   ]
  },
  {
   "cell_type": "markdown",
   "metadata": {},
   "source": [
    "Generate Ternary Mention Based Relations"
   ]
  },
  {
   "cell_type": "code",
   "execution_count": 44,
   "metadata": {},
   "outputs": [],
   "source": [
    "def add_ternary_mention_based_relations_to_release_dict(release_dict):\n",
    "    for pmid, article in release_dict.items():\n",
    "        tuples = set()\n",
    "        for relation in article[\"relations\"]:\n",
    "            tuples.add((relation[\"subject_text_span\"], relation[\"subject_label\"], relation[\"predicate\"], relation[\"object_text_span\"], relation[\"object_label\"]))\n",
    "        if \"ternary_mention_based_relations\" not in release_dict[pmid]:\n",
    "            release_dict[pmid][\"ternary_mention_based_relations\"] = []\t\t\n",
    "        for entry in tuples:\n",
    "            release_dict[pmid][\"ternary_mention_based_relations\"].append({\"subject_text_span\": entry[0], \"subject_label\": entry[1], \"predicate\": entry[2], \"object_text_span\": entry[3], \"object_label\": entry[4]})"
   ]
  },
  {
   "cell_type": "code",
   "execution_count": 45,
   "metadata": {},
   "outputs": [],
   "source": [
    "add_ternary_mention_based_relations_to_release_dict(dump_dict)"
   ]
  },
  {
   "cell_type": "code",
   "execution_count": 46,
   "metadata": {},
   "outputs": [],
   "source": [
    "with open(PATH_OUTPUT_MERGED_PREDICTIONS, 'w', encoding='utf-8') as file:\n",
    "    json.dump(dump_dict, file, indent=2)"
   ]
  },
  {
   "cell_type": "code",
   "execution_count": 47,
   "metadata": {},
   "outputs": [],
   "source": [
    "task_61 = {pmid: {} for pmid in list(dump_dict.keys())}\n",
    "for pmid in list(dump_dict.keys()):\n",
    "    task_61[pmid]['entities'] = dump_dict[pmid]['entities']\n",
    "\n",
    "with open(PATH_OUTPUT_61_NER, 'w', encoding='utf-8') as file:\n",
    "    json.dump(task_61, file, indent=2)"
   ]
  },
  {
   "cell_type": "code",
   "execution_count": 48,
   "metadata": {},
   "outputs": [],
   "source": [
    "task_621 = {pmid: {} for pmid in list(dump_dict.keys())}\n",
    "for pmid in list(dump_dict.keys()):\n",
    "    task_621[pmid]['binary_tag_based_relations'] = dump_dict[pmid]['binary_tag_based_relations']\n",
    "\n",
    "with open(PATH_OUTPUT_621_BINARY_TAG_RE, 'w', encoding='utf-8') as file:\n",
    "    json.dump(task_621, file, indent=2)"
   ]
  },
  {
   "cell_type": "code",
   "execution_count": 49,
   "metadata": {},
   "outputs": [],
   "source": [
    "task_622 = {pmid: {} for pmid in list(dump_dict.keys())}\n",
    "for pmid in list(dump_dict.keys()):\n",
    "    task_622[pmid]['ternary_tag_based_relations'] = dump_dict[pmid]['ternary_tag_based_relations']\n",
    "\n",
    "with open(PATH_OUTPUT_622_TERNARY_TAG_RE, 'w', encoding='utf-8') as file:\n",
    "    json.dump(task_622, file, indent=2)"
   ]
  },
  {
   "cell_type": "code",
   "execution_count": 50,
   "metadata": {},
   "outputs": [],
   "source": [
    "task_623 = {pmid: {} for pmid in list(dump_dict.keys())}\n",
    "for pmid in list(dump_dict.keys()):\n",
    "    task_623[pmid]['ternary_mention_based_relations'] = dump_dict[pmid]['ternary_mention_based_relations']\n",
    "\n",
    "with open(PATH_OUTPUT_623_TERNARY_MENTION_RE, 'w', encoding='utf-8') as file:\n",
    "    json.dump(task_623, file, indent=2)"
   ]
  }
 ],
 "metadata": {
  "kernelspec": {
   "display_name": "gutbrain25",
   "language": "python",
   "name": "python3"
  },
  "language_info": {
   "codemirror_mode": {
    "name": "ipython",
    "version": 3
   },
   "file_extension": ".py",
   "mimetype": "text/x-python",
   "name": "python",
   "nbconvert_exporter": "python",
   "pygments_lexer": "ipython3",
   "version": "3.10.16"
  }
 },
 "nbformat": 4,
 "nbformat_minor": 2
}
